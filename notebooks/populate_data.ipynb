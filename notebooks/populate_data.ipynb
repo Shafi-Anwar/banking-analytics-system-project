{
 "cells": [
  {
   "cell_type": "code",
   "execution_count": 3,
   "id": "fbad4a9b",
   "metadata": {},
   "outputs": [
    {
     "name": "stdout",
     "output_type": "stream",
     "text": [
      "Customers loaded with 50 rows.\n",
      "Accounts loaded with 70 rows.\n",
      "Transactions loaded with 500 rows.\n",
      "Loans loaded with 30 rows.\n",
      "CreditCards loaded with 40 rows.\n",
      "All CSVs uploaded successfully!\n"
     ]
    }
   ],
   "source": [
    "# ======================================\n",
    "# Upload all Banking CSVs into MySQL\n",
    "# ======================================\n",
    "import pandas as pd\n",
    "import mysql.connector\n",
    "\n",
    "# -----------------------------\n",
    "# MySQL Connection\n",
    "# -----------------------------\n",
    "conn = mysql.connector.connect(\n",
    "    host='localhost',\n",
    "    user='root',\n",
    "    password='asbs',  # <-- Replace with your MySQL password\n",
    "    database='banking'\n",
    ")\n",
    "cursor = conn.cursor()\n",
    "\n",
    "# -----------------------------\n",
    "# Function to load CSV into SQL\n",
    "# -----------------------------\n",
    "def load_csv_to_sql(csv_file, table_name):\n",
    "    df = pd.read_csv(csv_file)\n",
    "\n",
    "    # Replace NaN with None for SQL\n",
    "    df = df.where(pd.notnull(df), None)\n",
    "\n",
    "    # Column names and placeholders\n",
    "    cols = \", \".join(df.columns)\n",
    "    placeholders = \", \".join([\"%s\"] * len(df.columns))\n",
    "    sql = f\"INSERT INTO {table_name} ({cols}) VALUES ({placeholders})\"\n",
    "\n",
    "    # Convert dataframe to list of tuples\n",
    "    data = [tuple(x) for x in df.to_numpy()]\n",
    "\n",
    "    # Execute bulk insert\n",
    "    cursor.executemany(sql, data)\n",
    "    conn.commit()\n",
    "    print(f\"{table_name} loaded with {len(df)} rows.\")\n",
    "\n",
    "# -----------------------------\n",
    "# Load all CSVs\n",
    "# -----------------------------\n",
    "csv_table_map = {\n",
    "    \"customers.csv\": \"Customers\",\n",
    "    \"accounts.csv\": \"Accounts\",\n",
    "    \"transactions.csv\": \"Transactions\",\n",
    "    \"loans.csv\": \"Loans\",\n",
    "    \"credit_cards.csv\": \"CreditCards\"\n",
    "}\n",
    "\n",
    "for csv_file, table_name in csv_table_map.items():\n",
    "    load_csv_to_sql(csv_file, table_name)\n",
    "\n",
    "# -----------------------------\n",
    "# Close connection\n",
    "# -----------------------------\n",
    "cursor.close()\n",
    "conn.close()\n",
    "print(\"All CSVs uploaded successfully!\")\n"
   ]
  },
  {
   "cell_type": "code",
   "execution_count": null,
   "id": "f66bd49d",
   "metadata": {},
   "outputs": [],
   "source": []
  }
 ],
 "metadata": {
  "kernelspec": {
   "display_name": "base",
   "language": "python",
   "name": "python3"
  },
  "language_info": {
   "codemirror_mode": {
    "name": "ipython",
    "version": 3
   },
   "file_extension": ".py",
   "mimetype": "text/x-python",
   "name": "python",
   "nbconvert_exporter": "python",
   "pygments_lexer": "ipython3",
   "version": "3.13.5"
  }
 },
 "nbformat": 4,
 "nbformat_minor": 5
}
